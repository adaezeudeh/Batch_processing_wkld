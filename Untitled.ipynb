{
 "cells": [
  {
   "cell_type": "code",
   "execution_count": 2,
   "id": "a3053552-9325-4c06-a0ae-9c19c9c33bae",
   "metadata": {},
   "outputs": [
    {
     "name": "stdout",
     "output_type": "stream",
     "text": [
      "Hello world!\n"
     ]
    }
   ],
   "source": [
    "print(\"Hello world!\")"
   ]
  },
  {
   "cell_type": "code",
   "execution_count": 8,
   "id": "918cfbff-5364-4489-be74-052adf2df7db",
   "metadata": {},
   "outputs": [],
   "source": [
    "from pyspark.context import SparkContext\n",
    "from pyspark.sql.session import SparkSession\n",
    "sc = SparkContext('local')\n",
    "spark = SparkSession(sc)"
   ]
  },
  {
   "cell_type": "code",
   "execution_count": 26,
   "id": "8cc806f3",
   "metadata": {},
   "outputs": [],
   "source": [
    "#json_sdf = spark.readStream.json(\"data/json_files/\")\n",
    "spark.sql(\"set spark.sql.streaming.schemaInference=true\")\n",
    "\n",
    "json_sdf = spark.readStream.json(\"data/json_files/\")\n",
    "\n",
    "\n"
   ]
  },
  {
   "cell_type": "code",
   "execution_count": 27,
   "id": "788f7b60",
   "metadata": {},
   "outputs": [
    {
     "data": {
      "text/plain": [
       "True"
      ]
     },
     "execution_count": 27,
     "metadata": {},
     "output_type": "execute_result"
    }
   ],
   "source": [
    "json_sdf.isStreaming"
   ]
  },
  {
   "cell_type": "code",
   "execution_count": 24,
   "id": "e3cf56bc",
   "metadata": {},
   "outputs": [
    {
     "name": "stdout",
     "output_type": "stream",
     "text": [
      "root\n",
      " |-- analytics: struct (nullable = true)\n",
      " |    |-- clicks: long (nullable = true)\n",
      " |    |-- impressions: long (nullable = true)\n",
      " |-- datetime: string (nullable = true)\n",
      " |-- sales: struct (nullable = true)\n",
      " |    |-- quantity: long (nullable = true)\n",
      " |    |-- total_price: double (nullable = true)\n",
      "\n"
     ]
    }
   ],
   "source": [
    "json_sdf.printSchema()"
   ]
  },
  {
   "cell_type": "code",
   "execution_count": null,
   "id": "d1140b82",
   "metadata": {},
   "outputs": [],
   "source": []
  }
 ],
 "metadata": {
  "kernelspec": {
   "display_name": "Python 3 (ipykernel)",
   "language": "python",
   "name": "python3"
  },
  "language_info": {
   "codemirror_mode": {
    "name": "ipython",
    "version": 3
   },
   "file_extension": ".py",
   "mimetype": "text/x-python",
   "name": "python",
   "nbconvert_exporter": "python",
   "pygments_lexer": "ipython3",
   "version": "3.10.5"
  }
 },
 "nbformat": 4,
 "nbformat_minor": 5
}
