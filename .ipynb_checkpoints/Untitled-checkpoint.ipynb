{
 "cells": [
  {
   "cell_type": "code",
   "execution_count": 2,
   "id": "a3053552-9325-4c06-a0ae-9c19c9c33bae",
   "metadata": {},
   "outputs": [
    {
     "name": "stdout",
     "output_type": "stream",
     "text": [
      "Hello world!\n"
     ]
    }
   ],
   "source": [
    "print(\"Hello world!\")"
   ]
  },
  {
   "cell_type": "code",
   "execution_count": 77,
   "id": "68205f9f",
   "metadata": {},
   "outputs": [],
   "source": [
    "from pyspark.sql import functions as f"
   ]
  },
  {
   "cell_type": "code",
   "execution_count": 73,
   "id": "918cfbff-5364-4489-be74-052adf2df7db",
   "metadata": {
    "scrolled": true
   },
   "outputs": [
    {
     "ename": "ValueError",
     "evalue": "Cannot run multiple SparkContexts at once; existing SparkContext(app=pyspark-shell, master=local) created by __init__ at /tmp/ipykernel_46/168358632.py:3 ",
     "output_type": "error",
     "traceback": [
      "\u001b[0;31m---------------------------------------------------------------------------\u001b[0m",
      "\u001b[0;31mValueError\u001b[0m                                Traceback (most recent call last)",
      "Input \u001b[0;32mIn [73]\u001b[0m, in \u001b[0;36m<cell line: 3>\u001b[0;34m()\u001b[0m\n\u001b[1;32m      1\u001b[0m \u001b[38;5;28;01mfrom\u001b[39;00m \u001b[38;5;21;01mpyspark\u001b[39;00m\u001b[38;5;21;01m.\u001b[39;00m\u001b[38;5;21;01mcontext\u001b[39;00m \u001b[38;5;28;01mimport\u001b[39;00m SparkContext\n\u001b[1;32m      2\u001b[0m \u001b[38;5;28;01mfrom\u001b[39;00m \u001b[38;5;21;01mpyspark\u001b[39;00m\u001b[38;5;21;01m.\u001b[39;00m\u001b[38;5;21;01msql\u001b[39;00m\u001b[38;5;21;01m.\u001b[39;00m\u001b[38;5;21;01msession\u001b[39;00m \u001b[38;5;28;01mimport\u001b[39;00m SparkSession\n\u001b[0;32m----> 3\u001b[0m sc \u001b[38;5;241m=\u001b[39m \u001b[43mSparkContext\u001b[49m\u001b[43m(\u001b[49m\u001b[38;5;124;43m'\u001b[39;49m\u001b[38;5;124;43mlocal\u001b[39;49m\u001b[38;5;124;43m'\u001b[39;49m\u001b[43m)\u001b[49m\n\u001b[1;32m      4\u001b[0m spark \u001b[38;5;241m=\u001b[39m SparkSession(sc)\n",
      "File \u001b[0;32m/usr/local/spark/python/pyspark/context.py:144\u001b[0m, in \u001b[0;36mSparkContext.__init__\u001b[0;34m(self, master, appName, sparkHome, pyFiles, environment, batchSize, serializer, conf, gateway, jsc, profiler_cls)\u001b[0m\n\u001b[1;32m    139\u001b[0m \u001b[38;5;28;01mif\u001b[39;00m gateway \u001b[38;5;129;01mis\u001b[39;00m \u001b[38;5;129;01mnot\u001b[39;00m \u001b[38;5;28;01mNone\u001b[39;00m \u001b[38;5;129;01mand\u001b[39;00m gateway\u001b[38;5;241m.\u001b[39mgateway_parameters\u001b[38;5;241m.\u001b[39mauth_token \u001b[38;5;129;01mis\u001b[39;00m \u001b[38;5;28;01mNone\u001b[39;00m:\n\u001b[1;32m    140\u001b[0m     \u001b[38;5;28;01mraise\u001b[39;00m \u001b[38;5;167;01mValueError\u001b[39;00m(\n\u001b[1;32m    141\u001b[0m         \u001b[38;5;124m\"\u001b[39m\u001b[38;5;124mYou are trying to pass an insecure Py4j gateway to Spark. This\u001b[39m\u001b[38;5;124m\"\u001b[39m\n\u001b[1;32m    142\u001b[0m         \u001b[38;5;124m\"\u001b[39m\u001b[38;5;124m is not allowed as it is a security risk.\u001b[39m\u001b[38;5;124m\"\u001b[39m)\n\u001b[0;32m--> 144\u001b[0m \u001b[43mSparkContext\u001b[49m\u001b[38;5;241;43m.\u001b[39;49m\u001b[43m_ensure_initialized\u001b[49m\u001b[43m(\u001b[49m\u001b[38;5;28;43mself\u001b[39;49m\u001b[43m,\u001b[49m\u001b[43m \u001b[49m\u001b[43mgateway\u001b[49m\u001b[38;5;241;43m=\u001b[39;49m\u001b[43mgateway\u001b[49m\u001b[43m,\u001b[49m\u001b[43m \u001b[49m\u001b[43mconf\u001b[49m\u001b[38;5;241;43m=\u001b[39;49m\u001b[43mconf\u001b[49m\u001b[43m)\u001b[49m\n\u001b[1;32m    145\u001b[0m \u001b[38;5;28;01mtry\u001b[39;00m:\n\u001b[1;32m    146\u001b[0m     \u001b[38;5;28mself\u001b[39m\u001b[38;5;241m.\u001b[39m_do_init(master, appName, sparkHome, pyFiles, environment, batchSize, serializer,\n\u001b[1;32m    147\u001b[0m                   conf, jsc, profiler_cls)\n",
      "File \u001b[0;32m/usr/local/spark/python/pyspark/context.py:350\u001b[0m, in \u001b[0;36mSparkContext._ensure_initialized\u001b[0;34m(cls, instance, gateway, conf)\u001b[0m\n\u001b[1;32m    347\u001b[0m     callsite \u001b[38;5;241m=\u001b[39m SparkContext\u001b[38;5;241m.\u001b[39m_active_spark_context\u001b[38;5;241m.\u001b[39m_callsite\n\u001b[1;32m    349\u001b[0m     \u001b[38;5;66;03m# Raise error if there is already a running Spark context\u001b[39;00m\n\u001b[0;32m--> 350\u001b[0m     \u001b[38;5;28;01mraise\u001b[39;00m \u001b[38;5;167;01mValueError\u001b[39;00m(\n\u001b[1;32m    351\u001b[0m         \u001b[38;5;124m\"\u001b[39m\u001b[38;5;124mCannot run multiple SparkContexts at once; \u001b[39m\u001b[38;5;124m\"\u001b[39m\n\u001b[1;32m    352\u001b[0m         \u001b[38;5;124m\"\u001b[39m\u001b[38;5;124mexisting SparkContext(app=\u001b[39m\u001b[38;5;132;01m%s\u001b[39;00m\u001b[38;5;124m, master=\u001b[39m\u001b[38;5;132;01m%s\u001b[39;00m\u001b[38;5;124m)\u001b[39m\u001b[38;5;124m\"\u001b[39m\n\u001b[1;32m    353\u001b[0m         \u001b[38;5;124m\"\u001b[39m\u001b[38;5;124m created by \u001b[39m\u001b[38;5;132;01m%s\u001b[39;00m\u001b[38;5;124m at \u001b[39m\u001b[38;5;132;01m%s\u001b[39;00m\u001b[38;5;124m:\u001b[39m\u001b[38;5;132;01m%s\u001b[39;00m\u001b[38;5;124m \u001b[39m\u001b[38;5;124m\"\u001b[39m\n\u001b[1;32m    354\u001b[0m         \u001b[38;5;241m%\u001b[39m (currentAppName, currentMaster,\n\u001b[1;32m    355\u001b[0m             callsite\u001b[38;5;241m.\u001b[39mfunction, callsite\u001b[38;5;241m.\u001b[39mfile, callsite\u001b[38;5;241m.\u001b[39mlinenum))\n\u001b[1;32m    356\u001b[0m \u001b[38;5;28;01melse\u001b[39;00m:\n\u001b[1;32m    357\u001b[0m     SparkContext\u001b[38;5;241m.\u001b[39m_active_spark_context \u001b[38;5;241m=\u001b[39m instance\n",
      "\u001b[0;31mValueError\u001b[0m: Cannot run multiple SparkContexts at once; existing SparkContext(app=pyspark-shell, master=local) created by __init__ at /tmp/ipykernel_46/168358632.py:3 "
     ]
    }
   ],
   "source": [
    "from pyspark.context import SparkContext\n",
    "from pyspark.sql.session import SparkSession\n",
    "sc = SparkContext('local')\n",
    "spark = SparkSession(sc)"
   ]
  },
  {
   "cell_type": "code",
   "execution_count": 176,
   "id": "a5556c40",
   "metadata": {},
   "outputs": [],
   "source": [
    "from pyspark.sql.types import StructType as struct, IntegerType, StringType as String,DoubleType as Double,DateType as Date"
   ]
  },
  {
   "cell_type": "code",
   "execution_count": 185,
   "id": "81294fd3",
   "metadata": {},
   "outputs": [],
   "source": [
    "#json_sdf = spark.readStream.json(\"data/json_files/\")\n",
    "spark.sql(\"set spark.sql.streaming.schemaInference=true\")\n",
    "\n",
    "json_sdf = spark.readStream.json(\"data/json_files/\")\n",
    "\n",
    "\n"
   ]
  },
  {
   "cell_type": "code",
   "execution_count": 186,
   "id": "a5e71b0a",
   "metadata": {},
   "outputs": [
    {
     "data": {
      "text/plain": [
       "True"
      ]
     },
     "execution_count": 186,
     "metadata": {},
     "output_type": "execute_result"
    }
   ],
   "source": [
    "json_sdf.isStreaming"
   ]
  },
  {
   "cell_type": "code",
   "execution_count": 187,
   "id": "24fb5bf8",
   "metadata": {},
   "outputs": [
    {
     "name": "stdout",
     "output_type": "stream",
     "text": [
      "root\n",
      " |-- analytics: struct (nullable = true)\n",
      " |    |-- clicks: long (nullable = true)\n",
      " |    |-- impressions: long (nullable = true)\n",
      " |-- datetime: string (nullable = true)\n",
      " |-- sales: struct (nullable = true)\n",
      " |    |-- quantity: long (nullable = true)\n",
      " |    |-- total_price: double (nullable = true)\n",
      "\n"
     ]
    }
   ],
   "source": [
    "json_sdf.printSchema()"
   ]
  },
  {
   "cell_type": "code",
   "execution_count": 188,
   "id": "123c9604",
   "metadata": {
    "scrolled": true
   },
   "outputs": [
    {
     "name": "stdout",
     "output_type": "stream",
     "text": [
      "root\n",
      " |-- clicks: long (nullable = true)\n",
      " |-- impressions: long (nullable = true)\n",
      " |-- datetime: string (nullable = true)\n",
      " |-- quantity: long (nullable = true)\n",
      " |-- total_price: double (nullable = true)\n",
      "\n"
     ]
    }
   ],
   "source": [
    "flat_df = json_sdf.select(\"analytics.*\", \"datetime\", \"sales.*\")\n",
    "\n",
    "flat_df.printSchema()"
   ]
  },
  {
   "cell_type": "code",
   "execution_count": 189,
   "id": "73dd21e0",
   "metadata": {
    "scrolled": true
   },
   "outputs": [
    {
     "name": "stdout",
     "output_type": "stream",
     "text": [
      "root\n",
      " |-- clicks: integer (nullable = true)\n",
      " |-- impressions: integer (nullable = true)\n",
      " |-- datetime: date (nullable = true)\n",
      " |-- quantity: integer (nullable = true)\n",
      " |-- total_price: double (nullable = true)\n",
      "\n"
     ]
    }
   ],
   "source": [
    "#json_sdf.show()changedTypedf = joindf.withColumn(\"show\", joindf[\"show\"].cast(DoubleType()))\n",
    "change_type = flat_df.withColumn(\"clicks\", flat_df[\"clicks\"].cast(IntegerType())) \\\n",
    "            .withColumn(\"quantity\", flat_df[\"quantity\"].cast(IntegerType())) \\\n",
    "            .withColumn(\"datetime\", flat_df[\"datetime\"].cast(Date())) \\\n",
    "            .withColumn(\"impressions\", flat_df[\"impressions\"].cast(IntegerType())) #\\                          \n",
    "            #.withColumn(\"quantity\", flat_df[\"quantity\"].cast(Double()))\n",
    "\n",
    "#change_type = StructType([StructField(\"analytics\", StructType(\n",
    "                         #[StructField(\"clicks\", StringType())]))])\n",
    "\n",
    "change_type.printSchema()\n",
    "#change_type.show()"
   ]
  },
  {
   "cell_type": "code",
   "execution_count": null,
   "id": "b4a399bf",
   "metadata": {
    "scrolled": true
   },
   "outputs": [],
   "source": [
    "write_to = change_type.writeStream.option(\"checkpointLocation\",\"checkpoints\")\\\n",
    "        .option(\"header\", \"true\")\\\n",
    "        .outputMode(\"append\")\\\n",
    "        .format(\"csv\")\\\n",
    "        .start(\"data/csv_files/\")\\\n",
    "    .awaitTermination()"
   ]
  },
  {
   "cell_type": "code",
   "execution_count": null,
   "id": "a7ee2002",
   "metadata": {},
   "outputs": [],
   "source": [
    "write_to.isActive\n"
   ]
  },
  {
   "cell_type": "code",
   "execution_count": null,
   "id": "1cc7242d",
   "metadata": {},
   "outputs": [],
   "source": [
    "spark.sql(\"set spark.sql.streaming.schemaInference=true\")\n",
    "\n",
    "csv_sdf = spark.readStream.csv(\"data/csv_files/\")#.option(\"header\", true)\n",
    "\n",
    "csv_sdf.isStreaming\n",
    "#csv_sdf.head()"
   ]
  },
  {
   "cell_type": "code",
   "execution_count": null,
   "id": "d927a535",
   "metadata": {
    "scrolled": true
   },
   "outputs": [],
   "source": [
    "tumblingWindows = csv_sdf.withWatermark(\"csv_sdf.datetime\", '5 minutes') \\\n",
    "                .groupBy( window(\"datetime\", \"5 minutes\")) \\\n",
    "                .sum(\"clicks\").alias(\"aggregate_clicks\") \\\n",
    "                .sum(\"impressions\").alias(\"aggregate_impressions\") \\\n",
    "                .sum(\"quantity\").alias(\"aggregate_quantity\") \\\n",
    "                .sum(\"total_price\").alias(\"aggregate_tprice\")\n",
    "        \n",
    "tumblingWindows.show(truncate = False)\n"
   ]
  },
  {
   "cell_type": "code",
   "execution_count": null,
   "id": "fcb21ec2",
   "metadata": {},
   "outputs": [],
   "source": []
  }
 ],
 "metadata": {
  "kernelspec": {
   "display_name": "Python 3 (ipykernel)",
   "language": "python",
   "name": "python3"
  },
  "language_info": {
   "codemirror_mode": {
    "name": "ipython",
    "version": 3
   },
   "file_extension": ".py",
   "mimetype": "text/x-python",
   "name": "python",
   "nbconvert_exporter": "python",
   "pygments_lexer": "ipython3",
   "version": "3.10.5"
  }
 },
 "nbformat": 4,
 "nbformat_minor": 5
}
